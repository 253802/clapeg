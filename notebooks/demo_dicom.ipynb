{
 "cells": [
  {
   "cell_type": "code",
   "execution_count": 2,
   "metadata": {},
   "outputs": [],
   "source": [
    "from typing import Dict, Any, Union\n",
    "import numpy as np\n",
    "import pydicom\n",
    "import logging\n",
    "import os\n",
    "import shutil"
   ]
  },
  {
   "cell_type": "code",
   "execution_count": 3,
   "metadata": {},
   "outputs": [],
   "source": [
    "# Constants for keys\n",
    "KEYS = {\n",
    "    'Patient': 'PatientID',\n",
    "    'BodyPartExamined': 'BodyPartExamined',\n",
    "    'ImagePositionPatient': 'ImagePositionPatient',\n",
    "    'ImageOrientationPatient': 'ImageOrientationPatient',\n",
    "    'PhotometricInterpretation': 'PhotometricInterpretation',\n",
    "    'Rows': 'Rows',\n",
    "    'Columns': 'Columns',\n",
    "    'PixelSpacing': 'PixelSpacing',\n",
    "    'WindowCenter': 'WindowCenter',\n",
    "    'WindowWidth': 'WindowWidth',\n",
    "    'Modality': 'Modality',\n",
    "    'StudyInstanceUID': 'StudyInstanceUID',\n",
    "    'SeriesInstanceUID': 'SeriesInstanceUID',\n",
    "    'StudyID': 'StudyID',\n",
    "    'SamplesPerPixel': 'SamplesPerPixel',\n",
    "    'BitsAllocated': 'BitsAllocated',\n",
    "    'BitsStored': 'BitsStored',\n",
    "    'HighBit': 'HighBit',\n",
    "    'PixelRepresentation': 'PixelRepresentation',\n",
    "    'RescaleIntercept': 'RescaleIntercept',\n",
    "    'RescaleSlope': 'RescaleSlope',\n",
    "    'img_min': 'img_min',\n",
    "    'img_max': 'img_max',\n",
    "    'img_mean': 'img_mean',\n",
    "    'img_std': 'img_std'\n",
    "}"
   ]
  },
  {
   "cell_type": "code",
   "execution_count": 4,
   "metadata": {},
   "outputs": [],
   "source": [
    "def extract_metadata(image_data: pydicom.dataset.FileDataset) -> Dict[str, Any]:\n",
    "    \"\"\"\n",
    "    Extracts metadata from a DICOM dataset.\n",
    "\n",
    "    Args:\n",
    "    - image_data (pydicom.dataset.FileDataset): DICOM dataset.\n",
    "\n",
    "    Returns:\n",
    "    - Dict[str, Any]: Dictionary containing extracted metadata.\n",
    "    \"\"\"\n",
    "    metadata = {}\n",
    "    for key, dicom_key in KEYS.items():\n",
    "        try:\n",
    "            value = getattr(image_data, dicom_key, 'Unknown')\n",
    "            metadata[key] = value\n",
    "        except Exception as e:\n",
    "            logging.warning(f\"Error extracting {key}: {e}\")\n",
    "            metadata[key] = 'Unknown'\n",
    "    return metadata"
   ]
  },
  {
   "cell_type": "code",
   "execution_count": 8,
   "metadata": {},
   "outputs": [],
   "source": [
    "def extract_image_statistics(image: np.ndarray) -> Dict[str, Any]:\n",
    "    \"\"\"\n",
    "    Extracts statistics from an image.\n",
    "\n",
    "    Args:\n",
    "    - image (np.ndarray): Image data.\n",
    "\n",
    "    Returns:\n",
    "    - Dict[str, Any]: Dictionary containing image statistics.\n",
    "    \"\"\"\n",
    "    return {\n",
    "        'img_min': np.min(image),\n",
    "        'img_max': np.max(image),\n",
    "        'img_mean': np.mean(image),\n",
    "        'img_std': np.std(image)\n",
    "    }"
   ]
  },
  {
   "cell_type": "code",
   "execution_count": 9,
   "metadata": {},
   "outputs": [],
   "source": [
    "def extract_dicom_meta_data(filename: str) -> Union[Dict[str, Union[str, Any]], None]:\n",
    "    try:\n",
    "        image_data = pydicom.read_file(filename)\n",
    "        img = np.array(image_data.pixel_array).flatten()\n",
    "\n",
    "        metadata = extract_metadata(image_data)\n",
    "        image_stats = extract_image_statistics(img)\n",
    "\n",
    "        return {**metadata, **image_stats}\n",
    "\n",
    "    except FileNotFoundError as e:\n",
    "        logging.error(f\"File not found for {filename} - {e}\")\n",
    "    except pydicom.errors.InvalidDicomError as e:\n",
    "        logging.error(f\"Invalid DICOM file {filename} - {e}\")\n",
    "    except Exception as e:\n",
    "        logging.error(f\"An error occurred while processing {filename} - {e}\")\n",
    "\n",
    "    return None"
   ]
  },
  {
   "cell_type": "code",
   "execution_count": 10,
   "metadata": {},
   "outputs": [
    {
     "data": {
      "text/plain": [
       "{'Patient': 'ID00419637202311204720264',\n",
       " 'BodyPartExamined': 'Chest',\n",
       " 'ImagePositionPatient': [-212.600, -170.700, -54.000],\n",
       " 'ImageOrientationPatient': [1.000000, 0.000000, 0.000000, 0.000000, 1.000000, 0.000000],\n",
       " 'PhotometricInterpretation': 'MONOCHROME2',\n",
       " 'Rows': 1100,\n",
       " 'Columns': 888,\n",
       " 'PixelSpacing': [0.820312, 0.820312],\n",
       " 'WindowCenter': '-500.0',\n",
       " 'WindowWidth': '-1500.0',\n",
       " 'Modality': 'CT',\n",
       " 'StudyInstanceUID': '2.25.24142809421030670533829469959522337181',\n",
       " 'SeriesInstanceUID': '2.25.72922870310959542985933229225637751168',\n",
       " 'StudyID': '',\n",
       " 'SamplesPerPixel': 1,\n",
       " 'BitsAllocated': 16,\n",
       " 'BitsStored': 16,\n",
       " 'HighBit': 15,\n",
       " 'PixelRepresentation': 1,\n",
       " 'RescaleIntercept': '0.0',\n",
       " 'RescaleSlope': '1.0',\n",
       " 'img_min': -3024,\n",
       " 'img_max': 1772,\n",
       " 'img_mean': -256.72834254709255,\n",
       " 'img_std': 733.2332408732125}"
      ]
     },
     "execution_count": 10,
     "metadata": {},
     "output_type": "execute_result"
    }
   ],
   "source": [
    "extract_dicom_meta_data('../data/ID00419637202311204720264/10.dcm')"
   ]
  },
  {
   "cell_type": "code",
   "execution_count": 18,
   "metadata": {},
   "outputs": [],
   "source": [
    "def categorize_dicom_by_modality_and_patient(source_folder: str, output_folder: str) -> None:\n",
    "    \"\"\"\n",
    "    Categorizes DICOM files from a source folder based on their modality value\n",
    "    and patient ID, and moves them into respective output folders.\n",
    "\n",
    "    Args:\n",
    "    - source_folder (str): Path to the folder containing DICOM files.\n",
    "    - output_folder (str): Path to the output folder to organize the files.\n",
    "    \"\"\"\n",
    "    try:\n",
    "        os.makedirs(output_folder, exist_ok=True)\n",
    "\n",
    "        for root, _, files in os.walk(source_folder):\n",
    "            for file in files:\n",
    "                file_path = os.path.join(root, file)\n",
    "                if file.endswith('.dcm'):\n",
    "                    try:\n",
    "                        image_data = pydicom.read_file(file_path)\n",
    "                        modality = getattr(image_data, KEYS['Modality'], 'Unknown')\n",
    "                        patient_id = getattr(image_data, KEYS['Patient'], 'Unknown')\n",
    "                        \n",
    "                        modality_folder = os.path.join(output_folder, modality)\n",
    "                        os.makedirs(modality_folder, exist_ok=True)\n",
    "\n",
    "                        patient_folder = os.path.join(modality_folder, patient_id)\n",
    "                        os.makedirs(patient_folder, exist_ok=True)\n",
    "\n",
    "                        shutil.copy(file_path, os.path.join(patient_folder, file))\n",
    "\n",
    "                    except Exception as e:\n",
    "                        logging.warning(f\"Error processing {file_path}: {e}\")\n",
    "    \n",
    "    except Exception as e:\n",
    "        logging.error(f\"An error occurred while categorizing DICOM files: {e}\")\n"
   ]
  },
  {
   "cell_type": "code",
   "execution_count": 22,
   "metadata": {},
   "outputs": [],
   "source": [
    "def generate_report_for_folders(output_folder: str) -> None:\n",
    "    \"\"\"\n",
    "    Generates a report for each folder in the output_folder with extracted metadata\n",
    "    from a random DICOM file within that folder.\n",
    "\n",
    "    Args:\n",
    "    - output_folder (str): Path to the output folder containing categorized DICOM files.\n",
    "    \"\"\"\n",
    "    try:\n",
    "        for root, dirs, _ in os.walk(output_folder):\n",
    "            for folder in dirs:\n",
    "                folder_path = os.path.join(root, folder)\n",
    "                files = [f for f in os.listdir(folder_path) if f.endswith('.dcm')]\n",
    "                if files:\n",
    "                    random_file = np.random.choice(files)\n",
    "                    random_file_path = os.path.join(folder_path, random_file)\n",
    "                    try:\n",
    "                        image_data = pydicom.read_file(random_file_path)\n",
    "                        metadata = extract_metadata(image_data)\n",
    "                        report_file = os.path.join(folder_path, f\"{folder}_report.txt\")\n",
    "                        with open(report_file, 'w') as report:\n",
    "                            report.write(\"Metadata for a random DICOM file:\\n\")\n",
    "                            for key, value in metadata.items():\n",
    "                                report.write(f\"{key}: {value}\\n\")\n",
    "                    except Exception as e:\n",
    "                        logging.warning(f\"Error processing {random_file_path}: {e}\")\n",
    "    except Exception as e:\n",
    "        logging.error(f\"An error occurred while generating reports: {e}\")"
   ]
  },
  {
   "cell_type": "code",
   "execution_count": 19,
   "metadata": {},
   "outputs": [],
   "source": [
    "categorize_dicom_by_modality_and_patient('../data/', 'other')"
   ]
  },
  {
   "cell_type": "code",
   "execution_count": 21,
   "metadata": {},
   "outputs": [],
   "source": [
    "generate_report_for_folders('other/CT/')"
   ]
  },
  {
   "cell_type": "code",
   "execution_count": null,
   "metadata": {},
   "outputs": [],
   "source": []
  }
 ],
 "metadata": {
  "kernelspec": {
   "display_name": "clapeg",
   "language": "python",
   "name": "python3"
  },
  "language_info": {
   "codemirror_mode": {
    "name": "ipython",
    "version": 3
   },
   "file_extension": ".py",
   "mimetype": "text/x-python",
   "name": "python",
   "nbconvert_exporter": "python",
   "pygments_lexer": "ipython3",
   "version": "3.10.0"
  }
 },
 "nbformat": 4,
 "nbformat_minor": 2
}
